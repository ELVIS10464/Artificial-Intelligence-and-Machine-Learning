{
 "cells": [
  {
   "cell_type": "code",
   "execution_count": 1,
   "id": "6bf6b499",
   "metadata": {},
   "outputs": [],
   "source": [
    "import pandas as pd\n",
    "import numpy as np\n",
    "from numpy.linalg import *"
   ]
  },
  {
   "cell_type": "code",
   "execution_count": 2,
   "id": "4f416e06",
   "metadata": {},
   "outputs": [],
   "source": [
    "df = pd.read_excel(\"10000gender.xlsx\", index_col=False)\n",
    "df = np.array(df)\n",
    "label_ans = {0:'Male', 1:'Female'}"
   ]
  },
  {
   "cell_type": "code",
   "execution_count": 3,
   "id": "62b99b23",
   "metadata": {},
   "outputs": [
    {
     "data": {
      "text/plain": [
       "10000"
      ]
     },
     "execution_count": 3,
     "metadata": {},
     "output_type": "execute_result"
    }
   ],
   "source": [
    "characters = \"[]'\"\n",
    "data_set = np.zeros((len(df), 3))\n",
    "for i in range(len(df)):\n",
    "    string = str(df[i])\n",
    "    for k in range(len(characters)):\n",
    "        string = string.replace(characters[k],\"\")\n",
    "    string = string.split(',')\n",
    "    if string[0] == 'Male':\n",
    "        data_set[i][0] = 0\n",
    "    elif string[0] == 'Female':\n",
    "        data_set[i][0] = 1\n",
    "    for j in range(2):\n",
    "        data_set[i][j + 1] = float(string[j + 1])\n",
    "len(data_set)"
   ]
  },
  {
   "cell_type": "code",
   "execution_count": 4,
   "id": "61143839",
   "metadata": {},
   "outputs": [],
   "source": [
    "train_male = np.zeros((50, 2))\n",
    "train_female = np.zeros((50, 2))\n",
    "test_male = np.zeros((25, 2))\n",
    "test_female = np.zeros((25, 2))\n",
    "for i in range(50):\n",
    "    train_male[i][:] = data_set[i][1:] \n",
    "    train_female[i][:] = data_set[i + 5000][1:] \n",
    "for j in range(25):\n",
    "    test_male[j][:] = data_set[j + 50][1:] \n",
    "    test_female[j][:] = data_set[j + 5025][1:] "
   ]
  },
  {
   "cell_type": "code",
   "execution_count": 19,
   "id": "63ce7159",
   "metadata": {},
   "outputs": [
    {
     "name": "stdout",
     "output_type": "stream",
     "text": [
      "male mean:[[ 69.09692481 186.25233486]]\n",
      "female mean:[[ 63.45807626 131.842167  ]]\n",
      "male covariance matrix:\n",
      "[[  7.30682057  46.50672325]\n",
      " [ 46.50672325 424.45153323]]\n",
      "female covariance matrix:\n",
      "[[  7.43563298  44.86026547]\n",
      " [ 44.86026547 386.90483163]]\n"
     ]
    }
   ],
   "source": [
    "male_mean = np.array([np.mean(train_male, axis=0)])\n",
    "female_mean = np.array([np.mean(train_female, axis=0)])\n",
    "male_cov = np.zeros((2, 2))\n",
    "female_cov = np.zeros((2, 2))\n",
    "for i in range(50):\n",
    "    male_cov = male_cov + np.matmul((train_male[i][:] - male_mean).T, (train_male[i][:] - male_mean))\n",
    "    female_cov = female_cov + np.matmul((train_female[i][:] - female_mean).T, (train_female[i][:] - female_mean))\n",
    "male_cov = male_cov / 50\n",
    "female_cov = female_cov / 50\n",
    "\n",
    "male_cov_val = male_cov[0][0] * male_cov[1][1] - male_cov[0][1] * male_cov[1][0]\n",
    "\n",
    "female_cov_val = female_cov[0][0] * female_cov[1][1] - female_cov[0][1] * female_cov[1][0]\n",
    "print(f'male mean:{male_mean}')\n",
    "print(f'female mean:{female_mean}')\n",
    "print(f'male covariance matrix:\\n{male_cov}')\n",
    "print(f'female covariance matrix:\\n{female_cov}')"
   ]
  },
  {
   "cell_type": "code",
   "execution_count": 22,
   "id": "92a9087e",
   "metadata": {},
   "outputs": [],
   "source": [
    "def model_pre(x, male_mean, female_mean, male_cov_val, female_cov_val):\n",
    "    male_fun = 1 / (2 * np.pi * male_cov_val) * \\\n",
    "        np.exp((-1 * np.matmul((x - male_mean), (x - male_mean).T) * (1 / male_cov_val)) / 2)\n",
    "    female_fun = 1 / (2 * np.pi * female_cov_val) * \\\n",
    "        np.exp((-1 * np.matmul((x - female_mean), (x - female_mean).T) * (1 / female_cov_val)) / 2)\n",
    "    return male_fun / (male_fun + female_fun)"
   ]
  },
  {
   "cell_type": "code",
   "execution_count": 23,
   "id": "5c584453",
   "metadata": {
    "scrolled": true
   },
   "outputs": [],
   "source": [
    "male_pre = []\n",
    "male_pre_val = []\n",
    "female_pre = []\n",
    "female_pre_val = []\n",
    "for i in range(25):\n",
    "    result = model_pre(test_male[i][:], male_mean, female_mean, male_cov_val, female_cov_val)\n",
    "    male_pre_val.append(float(result))\n",
    "    if result > 0.5:\n",
    "        male_pre.append(1)\n",
    "    else:\n",
    "        male_pre.append(0)\n",
    "    result = model_pre(test_female[i][:], male_mean, female_mean, male_cov_val, female_cov_val)\n",
    "    female_pre_val.append(float(result))\n",
    "    if result > 0.5:\n",
    "        female_pre.append(0)\n",
    "    else:\n",
    "        female_pre.append(1)"
   ]
  },
  {
   "cell_type": "code",
   "execution_count": 24,
   "id": "f927a330",
   "metadata": {},
   "outputs": [
    {
     "name": "stdout",
     "output_type": "stream",
     "text": [
      "[0.5845570964026374, 0.9307642922004099, 0.6994462448391091, 0.7913847792219223, 0.6474788079980777, 0.5527647382027303, 0.8655185208276429, 0.8839944877480397, 0.9184147329158988, 0.9586804437067856, 0.9211603403774766, 0.9170052118521222, 0.9049069597207756, 0.5779878757823004, 0.7796594210804243, 0.42967693421690817, 0.8226287867935536, 0.9800433428990046, 0.8111402977946094, 0.9083732173093356, 0.8242830660251758, 0.9533834020310035, 0.7476781516008416, 0.5514496493035485, 0.9733628316664209]\n"
     ]
    }
   ],
   "source": [
    "print(male_pre_val)"
   ]
  },
  {
   "cell_type": "code",
   "execution_count": 25,
   "id": "4e606acc",
   "metadata": {},
   "outputs": [
    {
     "name": "stdout",
     "output_type": "stream",
     "text": [
      "[0.1650347438423874, 0.012893483320728889, 0.2157058038079781, 0.20385779140127602, 0.1088902348363397, 0.23623668311664486, 0.046098929223228426, 0.36042189204440206, 0.08089476138933092, 0.22669662081776198, 0.11544237548701516, 0.1611854098624848, 0.1447851487000934, 0.13589350793440128, 0.049586289062074594, 0.30559127829082117, 0.4860208642805284, 0.06403395027535816, 0.16841025943682644, 0.13662857239447057, 0.41526004922322857, 0.22407342362389687, 0.21921043479565572, 0.7827628279609364, 0.34378011869774566]\n"
     ]
    }
   ],
   "source": [
    "print(female_pre_val)"
   ]
  },
  {
   "cell_type": "code",
   "execution_count": 26,
   "id": "51b34493",
   "metadata": {},
   "outputs": [
    {
     "name": "stdout",
     "output_type": "stream",
     "text": [
      "male正確:24\n",
      "female正確:24\n"
     ]
    }
   ],
   "source": [
    "print(f'male正確:{sum(male_pre)}')\n",
    "print(f'female正確:{sum(female_pre)}')"
   ]
  },
  {
   "cell_type": "code",
   "execution_count": 27,
   "id": "9e85f389",
   "metadata": {},
   "outputs": [
    {
     "name": "stdout",
     "output_type": "stream",
     "text": [
      "Accuracy: 96.0%\n"
     ]
    }
   ],
   "source": [
    "print(f'Accuracy: {(sum(male_pre) + sum(female_pre)) / 50 * 100}%')  #正確率"
   ]
  },
  {
   "cell_type": "code",
   "execution_count": null,
   "id": "5eeb66b2",
   "metadata": {},
   "outputs": [],
   "source": []
  }
 ],
 "metadata": {
  "kernelspec": {
   "display_name": "Python 3 (ipykernel)",
   "language": "python",
   "name": "python3"
  },
  "language_info": {
   "codemirror_mode": {
    "name": "ipython",
    "version": 3
   },
   "file_extension": ".py",
   "mimetype": "text/x-python",
   "name": "python",
   "nbconvert_exporter": "python",
   "pygments_lexer": "ipython3",
   "version": "3.9.13"
  }
 },
 "nbformat": 4,
 "nbformat_minor": 5
}
